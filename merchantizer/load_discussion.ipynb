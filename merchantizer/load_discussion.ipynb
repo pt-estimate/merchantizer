{
 "cells": [
  {
   "cell_type": "code",
   "execution_count": 1,
   "id": "ddc0f20e-11ff-410b-8c64-8cbf059c6bc0",
   "metadata": {},
   "outputs": [
    {
     "name": "stdout",
     "output_type": "stream",
     "text": [
      "Current metadata provider: local@/Users/sonoffungdark/Projects/merchantizer/merchantizer\n"
     ]
    }
   ],
   "source": [
    "from metaflow import Flow, get_metadata\n",
    "import re\n",
    "import string\n",
    "\n",
    "print(\"Current metadata provider: %s\" % get_metadata())"
   ]
  },
  {
   "cell_type": "markdown",
   "id": "8cb4382b-94a3-42d2-99b8-fc31e77b9b23",
   "metadata": {},
   "source": [
    "### What happened in load.py?\n",
    "The code tests to see if the data has already been downloaded locally. If not, it grabs it from the link offered in the problem statement. It then prints the shape (rows, columns) of the data. I next read in the loaded data with the cell below."
   ]
  },
  {
   "cell_type": "code",
   "execution_count": 2,
   "id": "d9431efb-8590-4d9c-abdb-19dbb8ecbe0d",
   "metadata": {},
   "outputs": [
    {
     "name": "stdout",
     "output_type": "stream",
     "text": [
      "Using run: Run('TransactionLoadFlow/1713994043337276')\n"
     ]
    }
   ],
   "source": [
    "run = Flow('TransactionLoadFlow').latest_successful_run\n",
    "print(\"Using run: %s\" % str(run))\n",
    "\n",
    "raw_df = run.data.df"
   ]
  },
  {
   "cell_type": "markdown",
   "id": "a91bdbb3-e93f-486d-b357-639a3887bdae",
   "metadata": {},
   "source": [
    "### Investigate Largest Merchants\n",
    "Given the task at hand is to focus on correct classification of the largest merchants, I look into various data cleaning options to improve the quality of the large merchant descriptions."
   ]
  },
  {
   "cell_type": "code",
   "execution_count": 3,
   "id": "c8e68108-0898-4731-9ab2-4dcef450c285",
   "metadata": {},
   "outputs": [
    {
     "data": {
      "text/plain": [
       "merchantName\n",
       "7-ELEVEN                     58684\n",
       "APPLE.COM/BILL               57818\n",
       "UBER   TRIP                  35204\n",
       "APPLE CASH SENT MONEY        31584\n",
       "APPLE CASH BALANCE ADD       23958\n",
       "                             ...  \n",
       "SQ *OMS BELTON                   1\n",
       "CASH APP*JAYLAN*ADD CA           1\n",
       "UNCLE SAMS GOOD NATURA           1\n",
       "WAL Wal-Mart Super 840226        1\n",
       "CASH APP*LAURA FASNACH           1\n",
       "Name: count, Length: 1625233, dtype: int64"
      ]
     },
     "execution_count": 3,
     "metadata": {},
     "output_type": "execute_result"
    }
   ],
   "source": [
    "raw_df[\"merchantName\"].value_counts()"
   ]
  },
  {
   "cell_type": "code",
   "execution_count": 4,
   "id": "c2bec275-c6aa-417d-a292-32bde5a772ff",
   "metadata": {},
   "outputs": [
    {
     "data": {
      "text/plain": [
       "description\n",
       "cash                    477846\n",
       "wal-mart                343655\n",
       "wm                      339154\n",
       "mcdonald's              240863\n",
       "uber                    183684\n",
       "                         ...  \n",
       "spontaneity                  1\n",
       "amazon.com*kq68g3993         1\n",
       "amazon.com*tx7f34m82         1\n",
       "doordash*fishbones           1\n",
       "amazon.com*b06zf4ua3         1\n",
       "Name: count, Length: 225500, dtype: int64"
      ]
     },
     "execution_count": 4,
     "metadata": {},
     "output_type": "execute_result"
    }
   ],
   "source": [
    "raw_df[\"description\"].apply(lambda _:_.lower().split()[0]).value_counts()"
   ]
  },
  {
   "cell_type": "markdown",
   "id": "d180b75c-29c8-4c9d-a38f-540b4b4ba9a4",
   "metadata": {},
   "source": [
    "### Description Data Cleaning\n",
    "I choose to focus on the description field, because it is the rawest form. I can't view the logic used to get from description to merchantName, so I don't have a reason to trust it, and I therefore focus on the raw description data. I might use merchantName as a proxy label to compare against later in the work. Based upon an initial view into the description data, I will carry out the following data cleaning steps.\n",
    "* Lowercase the description data\n",
    "* Replace amazon variations (amzn) with amazon\n",
    "* Replace walmart variations (wal mart/wm supercenter) with wal-mart\n",
    "* Clean up the dollar store variations (dollar tree/dollar general/family dollar)\n",
    "* Expand text for doordash/square/paypal to make them more expressive"
   ]
  }
 ],
 "metadata": {
  "kernelspec": {
   "display_name": "Python 3 (ipykernel)",
   "language": "python",
   "name": "python3"
  },
  "language_info": {
   "codemirror_mode": {
    "name": "ipython",
    "version": 3
   },
   "file_extension": ".py",
   "mimetype": "text/x-python",
   "name": "python",
   "nbconvert_exporter": "python",
   "pygments_lexer": "ipython3",
   "version": "3.12.2"
  }
 },
 "nbformat": 4,
 "nbformat_minor": 5
}
